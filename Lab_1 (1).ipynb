{
  "nbformat": 4,
  "nbformat_minor": 0,
  "metadata": {
    "kernelspec": {
      "display_name": "Python 3",
      "language": "python",
      "name": "python3"
    },
    "language_info": {
      "codemirror_mode": {
        "name": "ipython",
        "version": 3
      },
      "file_extension": ".py",
      "mimetype": "text/x-python",
      "name": "python",
      "nbconvert_exporter": "python",
      "pygments_lexer": "ipython3",
      "version": "3.7.4"
    },
    "colab": {
      "name": "Lab_1.ipynb",
      "provenance": [],
      "collapsed_sections": []
    }
  },
  "cells": [
    {
      "cell_type": "markdown",
      "metadata": {
        "id": "TBvzhAlwoJFp",
        "colab_type": "text"
      },
      "source": [
        "# APS1070\n",
        "#### Basic Principles and Models - Project 1\n",
        "\n"
      ]
    },
    {
      "cell_type": "markdown",
      "metadata": {
        "id": "hJqa8JCbsXAR",
        "colab_type": "text"
      },
      "source": [
        "Project 1 has two parts: a tutorial component (which will be covered in labs) and an exercises component (to be completed as homework, individually). Overall, this project is worth 12.5% of your final grade. Completing the tutorial section is worth 2.5 marks. The exercises section will be graded out of the remaining 10 marks."
      ]
    },
    {
      "cell_type": "markdown",
      "metadata": {
        "id": "AC7fb3NUoJFq",
        "colab_type": "text"
      },
      "source": [
        "In this first lab, we will be using the popular machine learning library [scikit-learn](https://scikit-learn.org/stable/) in tandem with a popular scientific computing library in Python, [NumPy](https://www.numpy.org/), to investigate basic machine learning principles and models. The topics that will be covered in this lab include:\n",
        "* Introduction to scikit-learn and NumPy\n",
        "* Data preparation and cleaning with Pandas\n",
        "* Exploratory data analysis (EDA)\n",
        "* Nearest neighbors classification algorithm\n",
        "\n",
        "*Note:* Some other useful Python libraries include [matplotlib](https://matplotlib.org/) (for plotting/graphing) and [Pandas](https://pandas.pydata.org/) (for data analysis), though we won't be going into detail on these in this bootcamp. \n",
        "\n",
        "##### Jupyter Notebooks\n",
        "This lab will be using [Jupyter Notebooks](https://jupyter.org/) as a Python development environment. Hopefully you're somewhat familiar with them. Write your code in *cells* (this is a cell!) and execute your code by pressing the *play* button (up top) or by entering *ctrl+enter*. To format a cell for text, you can select \"Markdown\" from the dropdown - the default formatting is \"Code\", which will usually be what you want.\n",
        "\n",
        "#### Getting started\n",
        "Let's get started. First, we're going to test that we're able to import the required libraries.  \n",
        "**>> Run the code in the next cell** to import scikit-learn and NumPy."
      ]
    },
    {
      "cell_type": "code",
      "metadata": {
        "id": "5p8mq0BBX_eW",
        "colab_type": "code",
        "colab": {}
      },
      "source": [
        "print (\"test\")\n",
        "print (\"Shape:\")"
      ],
      "execution_count": 0,
      "outputs": []
    },
    {
      "cell_type": "markdown",
      "metadata": {
        "id": "6wNrxU-4YAfT",
        "colab_type": "text"
      },
      "source": [
        "Testing"
      ]
    },
    {
      "cell_type": "code",
      "metadata": {
        "id": "02vFf7HBoJFq",
        "colab_type": "code",
        "colab": {}
      },
      "source": [
        "import numpy as np\n",
        "import sklearn "
      ],
      "execution_count": 0,
      "outputs": []
    },
    {
      "cell_type": "markdown",
      "metadata": {
        "id": "bXYj_1fHoJFs",
        "colab_type": "text"
      },
      "source": [
        "### NumPy Basics\n",
        "\n",
        "Great. Let's move on to our next topic: getting a handle on NumPy basics. You can think of NumPy as sort of like a MATLAB for Python (if that helps). The main object is multidimensional arrays, and these come in particularly handy when working with data and machine learning algorithms.\n",
        "\n",
        "Let's create a 2x4 array containing the numbers 1 through 8 and conduct some basic operations on it.  \n",
        "**>> Run the code in the next cell to create and print the array.***"
      ]
    },
    {
      "cell_type": "code",
      "metadata": {
        "id": "xs3V4laeoJFt",
        "colab_type": "code",
        "colab": {}
      },
      "source": [
        "array = np.arange(8).reshape(-1,2)\n",
        "array"
      ],
      "execution_count": 0,
      "outputs": []
    },
    {
      "cell_type": "markdown",
      "metadata": {
        "id": "xICCkhfNoJFu",
        "colab_type": "text"
      },
      "source": [
        "We can access the shape, number of dimensions, data type, and number of elements in our array as follows:  \n",
        "*(Tip: use \"print()\" when you want a cell to output more than one thing, or you want to append text to your output, otherwise the cell will output the last object you call, as in the cell above)*"
      ]
    },
    {
      "cell_type": "code",
      "metadata": {
        "id": "ncoFbUrloJFv",
        "colab_type": "code",
        "colab": {}
      },
      "source": [
        "print (\"Shape:\", array.shape)\n",
        "print (\"Dimensions:\", array.ndim)\n",
        "print (\"Data type:\" , array.dtype.name)\n",
        "print (\"Number of elements:\", array.size)"
      ],
      "execution_count": 0,
      "outputs": []
    },
    {
      "cell_type": "markdown",
      "metadata": {
        "id": "f_9lG_HUoJFw",
        "colab_type": "text"
      },
      "source": [
        "If we have a Python list containing a set of numbers, we can use it to create an array:  \n",
        "*(Tip: if you click on a function call, such as array(), and press \"shift+tab\" the Notebook will provide you all the details of the function)*"
      ]
    },
    {
      "cell_type": "code",
      "metadata": {
        "id": "YBuAwh7ZoJFw",
        "colab_type": "code",
        "colab": {}
      },
      "source": [
        "mylist = [0, 1, 1, 2, 3, 5, 8, 13, 21]\n",
        "myarray = np.array(mylist)\n",
        "myarray"
      ],
      "execution_count": 0,
      "outputs": []
    },
    {
      "cell_type": "markdown",
      "metadata": {
        "id": "VuaWRVPzoJFy",
        "colab_type": "text"
      },
      "source": [
        "And we can do it for nested lists as well, creating multidimensional NumPy arrays:"
      ]
    },
    {
      "cell_type": "code",
      "metadata": {
        "id": "phcNKMipoJFy",
        "colab_type": "code",
        "colab": {}
      },
      "source": [
        "my2dlist = [[1,2,3],[4,5,6]]\n",
        "my2darray = np.array(my2dlist)\n",
        "my2darray"
      ],
      "execution_count": 0,
      "outputs": []
    },
    {
      "cell_type": "code",
      "metadata": {
        "id": "s2H50FC4agOK",
        "colab_type": "code",
        "colab": {}
      },
      "source": [
        "aa= np.array([1,2])\n",
        "aa"
      ],
      "execution_count": 0,
      "outputs": []
    },
    {
      "cell_type": "markdown",
      "metadata": {
        "id": "eg4tCbtDoJF0",
        "colab_type": "text"
      },
      "source": [
        "We can also index and slice NumPy arrays like we would do with a Python list or another container object as follows:"
      ]
    },
    {
      "cell_type": "code",
      "metadata": {
        "id": "5Lud5Oz6oJF0",
        "colab_type": "code",
        "colab": {}
      },
      "source": [
        "array = np.arange(10) \n",
        "print (\"Originally: \", array)\n",
        "print (\"First four elements: \", array[:4])\n",
        "print (\"After the first four elements: \", array[4:])\n",
        "print (\"The last element: \", array[-1])\n",
        "array[1]"
      ],
      "execution_count": 0,
      "outputs": []
    },
    {
      "cell_type": "markdown",
      "metadata": {
        "id": "Jk9CDc_moJF2",
        "colab_type": "text"
      },
      "source": [
        "And we can index/slice multidimensional arrays, too."
      ]
    },
    {
      "cell_type": "code",
      "metadata": {
        "id": "L4gkgltBoJF2",
        "colab_type": "code",
        "colab": {}
      },
      "source": [
        "array = np.array([[1,2,3],[4,5,6]])\n",
        "print (\"Originally: \", array)\n",
        "print (\"First row only: \", array[0,:])\n",
        "print (\"First column only: \", array[:,0])"
      ],
      "execution_count": 0,
      "outputs": []
    },
    {
      "cell_type": "markdown",
      "metadata": {
        "id": "4kimFdIJoJF5",
        "colab_type": "text"
      },
      "source": [
        "#### Sneak preview\n",
        "\n",
        "Often, when designing a machine learning classifier, it can be useful to compare an array of predictions (0 or 1 values) to another array of true values. We can do this pretty easily in NumPy to compute the *accuracy* (e.g., the number of values that are the same), for example, as follows:"
      ]
    },
    {
      "cell_type": "code",
      "metadata": {
        "id": "UrVyjSiYoJF6",
        "colab_type": "code",
        "colab": {}
      },
      "source": [
        "true_values = [0, 0, 1, 1, 1, 1, 1, 0, 1, 0]\n",
        "predictions = [0, 0, 0, 1, 1, 1, 0, 1, 1, 0]\n",
        "\n",
        "true_values_array = np.array(true_values)\n",
        "predictions_array = np.array(predictions)\n",
        "\n",
        "accuracy = np.sum(true_values_array == predictions_array) / true_values_array.size\n",
        "print (\"Accuracy: \", accuracy * 100, \"%\")"
      ],
      "execution_count": 0,
      "outputs": []
    },
    {
      "cell_type": "markdown",
      "metadata": {
        "id": "NTrKw3aEoJF7",
        "colab_type": "text"
      },
      "source": [
        "In the previous cell, we took two Python lists, converted them to NumPy arrays, and then used a combination of np.sum() and .size to compute the accuracy (proportion of elements that are pairwise equal). A tiny bit more advanced, but demonstrates the power of NumPy arrays.\n",
        "\n",
        "You'll notice we didn't used nested loops to conduct the comparison, but instead used the np.sum() function. This is an example of a vectorized operation within NumPy that is much more efficient when dealing with large datasets."
      ]
    },
    {
      "cell_type": "markdown",
      "metadata": {
        "id": "DZzw94WdoJF8",
        "colab_type": "text"
      },
      "source": [
        "### Pandas basics\n",
        "\n",
        "Pandas is an incredibly useful library that allows us to work with large datasets in Python. It contains myriad useful tools, and is highly compatible with other libraries like Scikit-learn, so you don't have to spend any time getting the two to play nicely together.\n",
        "\n",
        "First we are going to load a dataset with Pandas:"
      ]
    },
    {
      "cell_type": "code",
      "metadata": {
        "id": "Z8Nr62k7oJF8",
        "colab_type": "code",
        "colab": {}
      },
      "source": [
        "!pip install wget"
      ],
      "execution_count": 0,
      "outputs": []
    },
    {
      "cell_type": "code",
      "metadata": {
        "id": "TFs45of3oJF9",
        "colab_type": "code",
        "colab": {}
      },
      "source": [
        "import wget\n",
        "\n",
        "wget.download(\n",
        "    'https://github.com/alexwolson/APS1070_data/raw/master/arabica_data.csv',\n",
        "    'arabica_data.csv'\n",
        ")"
      ],
      "execution_count": 0,
      "outputs": []
    },
    {
      "cell_type": "code",
      "metadata": {
        "id": "PrgXCIXeoJF_",
        "colab_type": "code",
        "colab": {}
      },
      "source": [
        "import pandas as pd\n",
        "\n",
        "df = pd.read_csv('arabica_data.csv')"
      ],
      "execution_count": 0,
      "outputs": []
    },
    {
      "cell_type": "markdown",
      "metadata": {
        "id": "BNyU-L7hoJGA",
        "colab_type": "text"
      },
      "source": [
        "With Pandas, the main object we work with is referred to as a _DataFrame_ (hence calling our object here df). A DataFrame stores our dataset in a way that immediately gives us a lot of power to interact with it. If you just put the DataFrame in a cell on its own, you instantly get a clear, easy to read preview of the data you have:"
      ]
    },
    {
      "cell_type": "code",
      "metadata": {
        "id": "mwyULfgooJGB",
        "colab_type": "code",
        "colab": {}
      },
      "source": [
        "df"
      ],
      "execution_count": 0,
      "outputs": []
    },
    {
      "cell_type": "markdown",
      "metadata": {
        "id": "SRMk05QJoJGC",
        "colab_type": "text"
      },
      "source": [
        "But even though this is printed out well, the dataset is a bit too large for this view to be anything but overwhelming. Luckily, Pandas allows us to easily get some summary statistics about our data."
      ]
    },
    {
      "cell_type": "code",
      "metadata": {
        "id": "IdcIgH0roJGD",
        "colab_type": "code",
        "colab": {}
      },
      "source": [
        "df.describe()"
      ],
      "execution_count": 0,
      "outputs": []
    },
    {
      "cell_type": "code",
      "metadata": {
        "id": "IaZCReTrNOWG",
        "colab_type": "code",
        "colab": {}
      },
      "source": [
        "df.count().max()"
      ],
      "execution_count": 0,
      "outputs": []
    },
    {
      "cell_type": "markdown",
      "metadata": {
        "id": "Eu_NKdsUoJGE",
        "colab_type": "text"
      },
      "source": [
        "Let's say we want to zero in on a single column. This is done the same way that you access a dictionary entry:"
      ]
    },
    {
      "cell_type": "code",
      "metadata": {
        "id": "5AfhzRXIoJGE",
        "colab_type": "code",
        "colab": {}
      },
      "source": [
        "df['Species']"
      ],
      "execution_count": 0,
      "outputs": []
    },
    {
      "cell_type": "markdown",
      "metadata": {
        "id": "PL32j4QcoJGF",
        "colab_type": "text"
      },
      "source": [
        "Using this method of column access on its own returns a `series` object - think of this as a DataFrame with only one column. If you want to get the raw values however, you can simply specify this by adding `.values` after your entry. Using this, and by putting the object in a `Set` (which does not allow duplicate entries), we can quickly see all of the possible values for any column:"
      ]
    },
    {
      "cell_type": "code",
      "metadata": {
        "id": "ZQLTkn5LoJGG",
        "colab_type": "code",
        "colab": {}
      },
      "source": [
        "(df['Variety'].values)"
      ],
      "execution_count": 0,
      "outputs": []
    },
    {
      "cell_type": "markdown",
      "metadata": {
        "id": "6fJoOBgjoJGI",
        "colab_type": "text"
      },
      "source": [
        "You may notice that the final entry in this set isn't like the others - it's `nan`, which in Pandas denotes a missing entry. When working with real world datasets it's very common for entries to be missing, and there are a variety of ways of approaching a problem like this. For now, though, we are simply going to tell Pandas to drop any row that has a missing column, using the `dropna()` method."
      ]
    },
    {
      "cell_type": "code",
      "metadata": {
        "id": "Vy3se4KxoJGI",
        "colab_type": "code",
        "colab": {}
      },
      "source": [
        "df_clean = df.dropna()\n",
        "df_clean"
      ],
      "execution_count": 0,
      "outputs": []
    },
    {
      "cell_type": "markdown",
      "metadata": {
        "id": "JdkOZCJloJGK",
        "colab_type": "text"
      },
      "source": [
        "**YOUR TURN** \n",
        "How many entries did we lose by dropping all `nan`s? ***770 samples are lost after dropping all nans!***\n",
        "\n",
        "* What percentage of entries are left in `df_clean`? ___***41.27 % of entries are left after dropping all nans!*** \n",
        "\n",
        "* What column had the highest number of `nan` entries? (This can be done in one line - use Google!) ___***(( Farm Name )) column had the highest number of nan entries***"
      ]
    },
    {
      "cell_type": "code",
      "metadata": {
        "id": "1HaVQYqjoJGK",
        "colab_type": "code",
        "outputId": "1bef3290-f44b-496d-d595-50e5618ef882",
        "colab": {
          "base_uri": "https://localhost:8080/",
          "height": 68
        }
      },
      "source": [
        "### Your code here\n",
        "# print (df_clean.describe())\n",
        "a = df.count().max()- df_clean.count().max()\n",
        "print( a , \"samples are lost after dropping all nans!\")\n",
        "print( round (df_clean.count().max() * 100 / df.count().max(),2), \"% of entries are left after dropping all nans! \")\n",
        "print (\"((\",df.count().idxmin(), \")) column had the highest number of nan entries\")"
      ],
      "execution_count": 55,
      "outputs": [
        {
          "output_type": "stream",
          "text": [
            "770 samples are lost after dropping all nans!\n",
            "41.27 % of entries are left after dropping all nans! \n",
            "(( Farm Name )) column had the highest number of nan entries\n"
          ],
          "name": "stdout"
        }
      ]
    },
    {
      "cell_type": "markdown",
      "metadata": {
        "id": "_1p4DU9poJGN",
        "colab_type": "text"
      },
      "source": [
        "As you perform this analysis, you will probably notice that we've lost _quite a bit_ of our original data by simply dropping the `nan` values. There is another approach that we can examine, however. Instead of dropping the missing entries entirely, we can _impute_ their value using the data we do have. For a single column we can do this like so:"
      ]
    },
    {
      "cell_type": "code",
      "metadata": {
        "id": "9F6N5-_uoJGN",
        "colab_type": "code",
        "colab": {}
      },
      "source": [
        "from sklearn.impute import SimpleImputer\n",
        "\n",
        "imp = SimpleImputer(\n",
        "    missing_values=np.nan,\n",
        "    strategy='mean',\n",
        "    verbose=1\n",
        ")\n",
        "\n",
        "\n",
        "imp.fit(\n",
        "    df['altitude_mean_meters'].values.reshape((-1,1)) #we have to do the reshape operation because we are only using one feature.\n",
        ")\n",
        "\n",
        "df['altitude_mean_meters_imputed'] = imp.transform(df['altitude_mean_meters'].values.reshape((-1,1)))"
      ],
      "execution_count": 0,
      "outputs": []
    },
    {
      "cell_type": "code",
      "metadata": {
        "id": "Mfp3D574oJGP",
        "colab_type": "code",
        "colab": {}
      },
      "source": [
        "df[['altitude_mean_meters','altitude_mean_meters_imputed']].head(10)"
      ],
      "execution_count": 0,
      "outputs": []
    },
    {
      "cell_type": "markdown",
      "metadata": {
        "id": "14A5mPi7oJGQ",
        "colab_type": "text"
      },
      "source": [
        "OK, great! Now we have replaced the useless NaN values with the average height. While this obviously isn't as good as original data, in a lot of situations this can be a step up from losing rows entirely. "
      ]
    },
    {
      "cell_type": "markdown",
      "metadata": {
        "id": "DK7eW8caoJGR",
        "colab_type": "text"
      },
      "source": [
        "Sophisticated analysis can be done in only a few lines using Pandas. Let's say that we want to get the average coffee rating by country. First, we can use the `groupby` method to automatically collect the results by country. Then, we can select the column we want - `quality_score` - and calculate its mean the same way we would using NumPy:"
      ]
    },
    {
      "cell_type": "code",
      "metadata": {
        "id": "xx0KTeIxoJGR",
        "colab_type": "code",
        "colab": {}
      },
      "source": [
        "df_clean.groupby('Country of Origin')['quality_score'].mean()"
      ],
      "execution_count": 0,
      "outputs": []
    },
    {
      "cell_type": "markdown",
      "metadata": {
        "id": "Jzvh5MU-oJGS",
        "colab_type": "text"
      },
      "source": [
        "This is certainly interesting, but it could be presented better. First, all of the ratings are pretty high (what's the highest and lowest rating?). Let's standardize to unit mean and variance so that we can tell the difference more easily. We'll just do that on our subset here for now, but you can apply it to the entire dataset too!"
      ]
    },
    {
      "cell_type": "code",
      "metadata": {
        "id": "CBUOQRA9oJGS",
        "colab_type": "code",
        "colab": {}
      },
      "source": [
        "country_means = df_clean.groupby('Country of Origin')['quality_score'].mean()\n",
        "mu,si = country_means.mean(), country_means.std() #Calculate the overall mean and standard deviation of the quality scores\n",
        "country_means -= mu #Subtract the mean from every entry\n",
        "country_means /= si #Divide every entry by the standard deviation\n",
        "country_means"
      ],
      "execution_count": 0,
      "outputs": []
    },
    {
      "cell_type": "markdown",
      "metadata": {
        "id": "2dFpdBvuoJGU",
        "colab_type": "text"
      },
      "source": [
        "This is a lot clearer! Finally, let's sort this list so that it's easier to compare entries."
      ]
    },
    {
      "cell_type": "code",
      "metadata": {
        "id": "Ij1F28KzoJGU",
        "colab_type": "code",
        "colab": {}
      },
      "source": [
        "country_means.sort_values()"
      ],
      "execution_count": 0,
      "outputs": []
    },
    {
      "cell_type": "markdown",
      "metadata": {
        "id": "NoMBMddpoJGW",
        "colab_type": "text"
      },
      "source": [
        "Finally, we'll look at indexing using Pandas. Let's say that we want to only look at the coffee entries from Taiwan. We can use the following syntax to identify those rows:"
      ]
    },
    {
      "cell_type": "code",
      "metadata": {
        "id": "Rft2VN4soJGW",
        "colab_type": "code",
        "colab": {}
      },
      "source": [
        "#df_clean[df_clean['Country of Origin'] == 'Taiwan']\n",
        "#print (df_clean[df_clean['Country of Origin'] == 'Taiwan'])\n",
        "#df_clean[df_clean[\"Acidity\"] == 8.17][df_clean[\"Aftertaste\"] == 8.00]\n",
        "df_clean[df_clean[\"Acidity\"]== 8.50][df_clean[\"Aftertaste\"] == 8.25]"
      ],
      "execution_count": 0,
      "outputs": []
    },
    {
      "cell_type": "markdown",
      "metadata": {
        "id": "Pdy7AhiboJGY",
        "colab_type": "text"
      },
      "source": [
        "Say that out of the Taiwanese coffees, we only want to look at those which are the Bourbon variety. We can also chain those indexing operations like so:"
      ]
    },
    {
      "cell_type": "code",
      "metadata": {
        "colab_type": "code",
        "id": "IFLxJMDs9hbR",
        "cellView": "code",
        "colab": {}
      },
      "source": [
        "#@title Default title text\n",
        "df_clean[df_clean['Country of Origin'] == 'Taiwan'][df_clean['Variety'] == 'Bourbon']"
      ],
      "execution_count": 0,
      "outputs": []
    },
    {
      "cell_type": "markdown",
      "metadata": {
        "id": "JghslLyIoJGZ",
        "colab_type": "text"
      },
      "source": [
        "### Scikit-learn Basics\n",
        "\n",
        "Scikit-learn is a great library to use for doing machine learning in Python. Data preparation, exploratory data analysis (EDA), classification, regression, clustering; it has it all. \n",
        "\n",
        "Scikit-learn usually expects data to be in the form of a 2D matrix with dimensions *n_samples x n_features* with an additional column for the target. To get acquainted with scikit-learn, we are going to use the [iris dataset](https://archive.ics.uci.edu/ml/datasets/iris), one of the most famous datasets in pattern recognition. \n",
        "\n",
        "Each entry in the dataset represents an iris plant, and is categorized as: \n",
        "\n",
        "* Setosa (class 0)\n",
        "* Versicolor (class 1)\n",
        "* Virginica (class 2)\n",
        "\n",
        "These represent the target classes to predict. Each entry also includes a set of features, namely:\n",
        "\n",
        "* Sepal width (cm)\n",
        "* Sepal length (cm)\n",
        "* Petal length (cm)\n",
        "* Petal width (cm)\n",
        "\n",
        "In the context of machine learning classification, the remainder of the lab is going to investigate the following question:  \n",
        "*Can we design a model that, based on the iris sample features, can accurately predict the iris sample class? *\n",
        "\n",
        "Scikit-learn has a copy of the iris dataset readily importable for us. Let's grab it now and conduct some EDA."
      ]
    },
    {
      "cell_type": "code",
      "metadata": {
        "id": "flfiIhwgoJGa",
        "colab_type": "code",
        "colab": {}
      },
      "source": [
        "from sklearn.datasets import load_iris\n",
        "iris_data = load_iris()\n",
        "feature_data = iris_data.data\n",
        "print(iris_data)\n",
        "print(feature_data)"
      ],
      "execution_count": 0,
      "outputs": []
    },
    {
      "cell_type": "markdown",
      "metadata": {
        "id": "k4NUSHqyoJGb",
        "colab_type": "text"
      },
      "source": [
        "**YOUR TURN:** \"feature_data\" now contains the feature data for all of the iris samples. \n",
        "* What is the shape of this feature data? \n",
        "\n",
        "\n",
        " _______***The shape of the feature data is: (150, 4)***\n",
        "* The data type? ________________***The data type is: float64***\n",
        "* How many samples are there? ________________***there are 150 samples***\n",
        "* How many features are there? ________________***there are 4 features***"
      ]
    },
    {
      "cell_type": "code",
      "metadata": {
        "id": "Z1IHiamcoJGb",
        "colab_type": "code",
        "outputId": "db9ef17e-1e30-46c8-aa50-4d44bd4c993d",
        "colab": {
          "base_uri": "https://localhost:8080/",
          "height": 85
        }
      },
      "source": [
        "## Enter your code here\n",
        "print (\"The shape of the feature data is:\",feature_data.shape)\n",
        "print(\"The data type is:\",feature_data.dtype.name)\n",
        "print(\"there are 150 samples\")\n",
        "print(\"there are 4 features\")\n"
      ],
      "execution_count": 0,
      "outputs": [
        {
          "output_type": "stream",
          "text": [
            "The shape of the feature data is: (150, 4)\n",
            "The data type is: float64\n",
            "there are 150 samples\n",
            "there are 4 features\n"
          ],
          "name": "stdout"
        }
      ]
    },
    {
      "cell_type": "markdown",
      "metadata": {
        "id": "WQhxUGJFoJGc",
        "colab_type": "text"
      },
      "source": [
        "Next, we will save the target classification data in a similar fashion."
      ]
    },
    {
      "cell_type": "code",
      "metadata": {
        "id": "nYUsnObIoJGc",
        "colab_type": "code",
        "colab": {}
      },
      "source": [
        "target_data = iris_data.target\n",
        "target_names = iris_data.target_names\n",
        "print (target_data)\n",
        "print (target_names)"
      ],
      "execution_count": 0,
      "outputs": []
    },
    {
      "cell_type": "markdown",
      "metadata": {
        "id": "bnqM5ucroJGd",
        "colab_type": "text"
      },
      "source": [
        "**YOUR TURN:**\n",
        "* What values are in \"target_data\"? _________ 0,1,2\n",
        "* What is the data type? __________ int64\n",
        "* What values are in \"target_names\"? ____ 'setosa', 'versicolor', 'virginica'\n",
        "* What is the data type? ________ str320\n",
        "* How many samples are of type \"setosa\"? _____ 50"
      ]
    },
    {
      "cell_type": "code",
      "metadata": {
        "id": "WFHlF8kEoJGe",
        "colab_type": "code",
        "outputId": "bf2a778f-4aff-46cd-8084-5ef467825828",
        "colab": {
          "base_uri": "https://localhost:8080/",
          "height": 102
        }
      },
      "source": [
        "## Enter your code here\n",
        "print (\"Values are in target_data are:\",set(target_data))\n",
        "print (\"Data type in target_data is:\", target_data.dtype.name)\n",
        "print (\"Values in target_names:\",target_names)\n",
        "print (\"Data type in target_names is:\", target_names.dtype.name)\n",
        "print (\"numberof setosa samples are:\", np.sum(target_data == 0))\n",
        "#np.count_nonzero(target_data)\n"
      ],
      "execution_count": 0,
      "outputs": [
        {
          "output_type": "stream",
          "text": [
            "Values are in target_data are: {0, 1, 2}\n",
            "Data type in target_data is: int64\n",
            "Values in target_names: ['setosa' 'versicolor' 'virginica']\n",
            "Data type in target_names is: str320\n",
            "numberof setosa samples are: 50\n"
          ],
          "name": "stdout"
        }
      ]
    },
    {
      "cell_type": "markdown",
      "metadata": {
        "id": "9VIjLD8RoJGf",
        "colab_type": "text"
      },
      "source": [
        "We can also do some more visual EDA by plotting the samples according to a subset of the features and coloring the data points to coincide with the sample classification. We will use [matplotlib](https://matplotlib.org/), a powerful plotting library within Python, to accomplish this.\n",
        "\n",
        "For example, lets plot sepal width vs. sepal length.\n"
      ]
    },
    {
      "cell_type": "code",
      "metadata": {
        "id": "60y6Yy7zoJGg",
        "colab_type": "code",
        "colab": {}
      },
      "source": [
        "import matplotlib.pyplot as plt"
      ],
      "execution_count": 0,
      "outputs": []
    },
    {
      "cell_type": "code",
      "metadata": {
        "id": "Su2D9rDgNc5W",
        "colab_type": "code",
        "outputId": "3db4d19d-fb53-4d30-b3ee-095449fdc63e",
        "colab": {
          "base_uri": "https://localhost:8080/",
          "height": 286
        }
      },
      "source": [
        "setosa = feature_data[target_data==0]\n",
        "versicolor = feature_data[target_data==1]\n",
        "virginica = feature_data[target_data==2]\n",
        "plt.scatter(setosa[:,0], setosa[:,1], label=\"setosa\")\n",
        "plt.scatter(versicolor[:,0], versicolor[:,1], label=\"versicolor\")\n",
        "plt.scatter(virginica[:,0], virginica[:,1], label=\"virginica\")\n",
        "plt.legend()\n"
      ],
      "execution_count": 0,
      "outputs": [
        {
          "output_type": "execute_result",
          "data": {
            "text/plain": [
              "<matplotlib.legend.Legend at 0x7fc1691ef2e8>"
            ]
          },
          "metadata": {
            "tags": []
          },
          "execution_count": 326
        },
        {
          "output_type": "display_data",
          "data": {
            "image/png": "[encoded data removed]",
            "text/plain": [
              "<Figure size 432x288 with 1 Axes>"
            ]
          },
          "metadata": {
            "tags": []
          }
        }
      ]
    },
    {
      "cell_type": "code",
      "metadata": {
        "id": "Yxr-oTnaoJGh",
        "colab_type": "code",
        "outputId": "e60c5b9d-d1fd-436e-ea83-deb39357a6ef",
        "colab": {
          "base_uri": "https://localhost:8080/",
          "height": 295
        }
      },
      "source": [
        "setosa = feature_data[target_data==0]\n",
        "versicolor = feature_data[target_data==1]\n",
        "virginica = feature_data[target_data==2]\n",
        "\n",
        "plt.scatter(setosa[:,0], setosa[:,1], label=\"setosa\")\n",
        "plt.scatter(versicolor[:,0], versicolor[:,1], label=\"versicolor\")\n",
        "plt.scatter(virginica[:,0], virginica[:,1], label=\"virginica\")\n",
        "\n",
        "plt.legend()\n",
        "plt.xlabel(\"sepal length (cm)\")\n",
        "plt.ylabel(\"sepal width (cm)\")\n",
        "plt.title(\"Visual EDA\");"
      ],
      "execution_count": 0,
      "outputs": [
        {
          "output_type": "display_data",
          "data": {
            "image/png": "[encoded data removed]",
            "text/plain": [
              "<Figure size 432x288 with 1 Axes>"
            ]
          },
          "metadata": {
            "tags": []
          }
        }
      ]
    },
    {
      "cell_type": "markdown",
      "metadata": {
        "id": "CqiWXVGToJGi",
        "colab_type": "text"
      },
      "source": [
        "In the above step, we used boolean indexing to filter the feature data based on the target data class. This allowed us to create a scatter plot for each of the iris classes and distinguish them by color.\n",
        "\n",
        "*Observations*: We can see that the \"setosa\" class typically consists of medium-to-high sepal width with low-to-medium sepal length, while the other two classes have lower width and higher length. The \"virginica\" class appears to have the largest combination of the two. \n",
        "\n",
        "**YOUR TURN:** \n",
        "* Which of the iris classes is seperable based on sepal characteristics? ______***setosa___***_______\n",
        "* Which of the iris classes is not? ______***versicolor and virginica__________***\n",
        "* Can we (easily) visualize each of the samples w.r.t. all features on the same plot? Why/why not? ____for versicolor and virginica, it is hard to visualze, but for setosa, we can.____________"
      ]
    },
    {
      "cell_type": "markdown",
      "metadata": {
        "id": "6yar5YTAoJGj",
        "colab_type": "text"
      },
      "source": [
        "### Creating a Nearest Neighbors Classifier\n",
        "\n",
        "Now that we've explored the data a little bit, we're going to use scikit-learn to create a nearest neighbors classifier for the data. Effectively we'll be developing a model whose job it is to build a relationship over input feature data (sepal and petal characteristics) that predicts the iris sample class (e.g. \"setosa\"). This is an example of a *supervised learning* task; we have all the features and all the target classes.\n",
        "\n",
        "Model creation in scikit-learn follows a **data prep -> fit -> predict** process. The \"fit\" function is where the actual model is trained and parameter values are selected, while the \"predict\" function actually takes the trained model and applies it to the new samples.\n",
        "\n",
        "First, we load the nearest neighbor library from scikit-learn:"
      ]
    },
    {
      "cell_type": "code",
      "metadata": {
        "id": "_yFpq-h9oJGj",
        "colab_type": "code",
        "colab": {}
      },
      "source": [
        "from sklearn import neighbors"
      ],
      "execution_count": 0,
      "outputs": []
    },
    {
      "cell_type": "markdown",
      "metadata": {
        "id": "CPzTtk8roJGk",
        "colab_type": "text"
      },
      "source": [
        "Now, we're going to save our feature data into an array called 'X' and our target data into an array called 'y'. We don't *need* to do this, but it is traditional to think of the problem using this notation."
      ]
    },
    {
      "cell_type": "code",
      "metadata": {
        "id": "CZX6WgMjoJGk",
        "colab_type": "code",
        "colab": {}
      },
      "source": [
        "X = feature_data\n",
        "y = target_data"
      ],
      "execution_count": 0,
      "outputs": []
    },
    {
      "cell_type": "markdown",
      "metadata": {
        "id": "sags3EJ4oJGm",
        "colab_type": "text"
      },
      "source": [
        "Next, we create our nearest neighbor classifier object:"
      ]
    },
    {
      "cell_type": "code",
      "metadata": {
        "id": "TDby6Z-6oJGm",
        "colab_type": "code",
        "colab": {}
      },
      "source": [
        "knn = neighbors.KNeighborsClassifier(n_neighbors=1)"
      ],
      "execution_count": 0,
      "outputs": []
    },
    {
      "cell_type": "markdown",
      "metadata": {
        "id": "9ZaVns1ooJGo",
        "colab_type": "text"
      },
      "source": [
        "And then we *fit* it to the data (i.e., train the classifier)."
      ]
    },
    {
      "cell_type": "code",
      "metadata": {
        "id": "F2uDIsP9oJGq",
        "colab_type": "code",
        "outputId": "ad381954-c6d5-4e93-b5f6-eac17eea772e",
        "colab": {
          "base_uri": "https://localhost:8080/",
          "height": 68
        }
      },
      "source": [
        "knn.fit(X,y)"
      ],
      "execution_count": 0,
      "outputs": [
        {
          "output_type": "execute_result",
          "data": {
            "text/plain": [
              "KNeighborsClassifier(algorithm='auto', leaf_size=30, metric='minkowski',\n",
              "                     metric_params=None, n_jobs=None, n_neighbors=1, p=2,\n",
              "                     weights='uniform')"
            ]
          },
          "metadata": {
            "tags": []
          },
          "execution_count": 361
        }
      ]
    },
    {
      "cell_type": "markdown",
      "metadata": {
        "id": "m9qLzshxoJGr",
        "colab_type": "text"
      },
      "source": [
        "Now we have a model! If you're new to this, you've officially built your first machine learning model. If you use \"knn.predict(*[[feature array here]]*)\", you can use your trained model to predict the class of a new iris sample. \n",
        "\n",
        "**YOUR TURN:**\n",
        "* What is the predicted class of a new iris sample with feature vector [3,4,5,2]? What is its name? ___***feature vector2, name: virginica___________***\n",
        "* Do you think this model is overfit or underfit to the iris dataset? Why? _____***overfit, because it tests all single neighbours, so gets too much details ***__________\n",
        "* How many neighbors does our model consider when classifying a new sample? _______***_one__***______"
      ]
    },
    {
      "cell_type": "code",
      "metadata": {
        "id": "ThmDOzVFoJGr",
        "colab_type": "code",
        "outputId": "8f312c81-52ea-4fa1-802d-c2af4e09a57c",
        "colab": {
          "base_uri": "https://localhost:8080/",
          "height": 34
        }
      },
      "source": [
        "knn.predict([[3,4,5,2]])"
      ],
      "execution_count": 0,
      "outputs": [
        {
          "output_type": "execute_result",
          "data": {
            "text/plain": [
              "array([2])"
            ]
          },
          "metadata": {
            "tags": []
          },
          "execution_count": 362
        }
      ]
    },
    {
      "cell_type": "markdown",
      "metadata": {
        "id": "grjsglM5oJGs",
        "colab_type": "text"
      },
      "source": [
        "As you may have noted in the previous cell, we've trained this classifier on our *entire dataset*. This typically isn't done in practice and results in overfitting to the data. Here's a bit of a tricky question:\n",
        "\n",
        "**YOUR TURN:**\n",
        "* If we use our classifier to predict the classes of the iris samples that were used to train the model itself, what will our overall accuracy be? _____100%___________\n",
        "\n",
        "We can validate our hypothesis fairly easily using either: i) the NumPy technique for calculating accuracy we used earlier in the lab, or ii) scikit-learn's in-house \"accuracy_score()\" function.\n",
        "\n",
        "Let's use our technique first:"
      ]
    },
    {
      "cell_type": "code",
      "metadata": {
        "id": "czS77Os8oJGt",
        "colab_type": "code",
        "outputId": "775b558f-c0df-42b2-ce8a-bd2072b533e2",
        "colab": {
          "base_uri": "https://localhost:8080/",
          "height": 34
        }
      },
      "source": [
        "accuracy = np.sum(target_data == knn.predict(feature_data)) / target_data.size\n",
        "print (\"Accuracy: \", accuracy * 100, \"%\")"
      ],
      "execution_count": 0,
      "outputs": [
        {
          "output_type": "stream",
          "text": [
            "Accuracy:  100.0 %\n"
          ],
          "name": "stdout"
        }
      ]
    },
    {
      "cell_type": "markdown",
      "metadata": {
        "id": "VlRFSBWIoJGu",
        "colab_type": "text"
      },
      "source": [
        "and then using scikit-learn's customized function:"
      ]
    },
    {
      "cell_type": "code",
      "metadata": {
        "id": "ae7QXH_EoJGu",
        "colab_type": "code",
        "outputId": "5f205e87-c3cb-4e8b-b3db-4fbb56f0585b",
        "colab": {
          "base_uri": "https://localhost:8080/",
          "height": 34
        }
      },
      "source": [
        "from sklearn.metrics import accuracy_score\n",
        "accuracy = accuracy_score(target_data, knn.predict(feature_data))\n",
        "print (\"Accuracy: \", accuracy * 100, \"%\")"
      ],
      "execution_count": 0,
      "outputs": [
        {
          "output_type": "stream",
          "text": [
            "Accuracy:  100.0 %\n"
          ],
          "name": "stdout"
        }
      ]
    },
    {
      "cell_type": "markdown",
      "metadata": {
        "id": "ojZn8Ly8oJGw",
        "colab_type": "text"
      },
      "source": [
        "We see that our classifier has achieved 100% accuracy (and both calculation methods agree)!\n",
        "\n",
        "**DISCUSSION:** \n",
        "* Why do you think the model was able to achieve such a \"great\" result? \n",
        "* What does this really tell us? \n",
        "* Do you expect the model to perform this well on new data?"
      ]
    },
    {
      "cell_type": "markdown",
      "metadata": {
        "id": "G5K78afZoJG4",
        "colab_type": "text"
      },
      "source": [
        "### Exercises (to be completed on your own)\n",
        "\n",
        "Let's take the tools we have learned in this lab and put them into practice on a new dataset.\n",
        "\n",
        "We're going to work with a dataset focused on diabetes. It contains a variety of health metrics for a number of patients, and then in a second object it shows whether or not that patient had diabetes. Download it using the cell below:"
      ]
    },
    {
      "cell_type": "code",
      "metadata": {
        "id": "SkFlVlNGoJG4",
        "colab_type": "code",
        "colab": {}
      },
      "source": [
        "from sklearn.datasets import fetch_openml\n",
        "\n",
        "diabetes_data = fetch_openml(\n",
        "    name='diabetes',\n",
        "    cache=False )\n"
      ],
      "execution_count": 0,
      "outputs": []
    },
    {
      "cell_type": "markdown",
      "metadata": {
        "id": "BLwmertOoJG5",
        "colab_type": "text"
      },
      "source": [
        "First off, take a look at the `data`, `target` and `feature_names` entires in the `diabetes_data` dictionary. They contain the information we'll be working with here. Then, create a Pandas DataFrame called `diabetes_df` containing the data and the targets, with the feature names as column headings. If you need help, refer [here](https://pandas.pydata.org/pandas-docs/stable/reference/api/pandas.DataFrame.html) for more detail on how to achieve this.\n",
        "\n",
        "* What was the average age of participants? [1] ___***_33.24***\n",
        "* How many participants tested positive? How many tested negative? [1] ___***_268***"
      ]
    },
    {
      "cell_type": "code",
      "metadata": {
        "id": "oOgVWHG-oJG5",
        "colab_type": "code",
        "outputId": "bdfbfb48-8905-46c0-d8e6-b72451b1b23b",
        "colab": {
          "base_uri": "https://localhost:8080/",
          "height": 51
        }
      },
      "source": [
        "### YOUR CODE HERE\n",
        "import numpy as np\n",
        "diab_d = diabetes_data.data\n",
        "diab_t = diabetes_data.target\n",
        "diab_tn = diabetes_data.feature_names\n",
        "#>>>Creating Dataframe\n",
        "import pandas as pd\n",
        "df = pd.DataFrame(diab_d, columns = diab_tn) \n",
        "df[\"target\"] = diab_t\n",
        "print('The average age of participants is:',round ((sum (df[\"age\"])/df.count().max()),2)) \n",
        "print( np.sum(diab_t == 'tested_positive'),\"participants tested possitive!\")\n",
        "#"
      ],
      "execution_count": 57,
      "outputs": [
        {
          "output_type": "stream",
          "text": [
            "The average age of participants is: 33.24\n",
            "268 participants tested possitive!\n"
          ],
          "name": "stdout"
        }
      ]
    },
    {
      "cell_type": "code",
      "metadata": {
        "id": "g3hR555ZWDM6",
        "colab_type": "code",
        "colab": {}
      },
      "source": [
        ""
      ],
      "execution_count": 0,
      "outputs": []
    },
    {
      "cell_type": "code",
      "metadata": {
        "id": "MeV5Tm3_4Rs5",
        "colab_type": "code",
        "colab": {}
      },
      "source": [
        "##EXERCISEs\n",
        "###print(df)\n",
        "###print (diab_d)\n",
        "###print (diab_d.shape) #: (768,8)\n",
        "###print (diab_d.dtype) #: float64\n",
        "###print (diab_t)\n",
        "###print (diab_t.shape) #: (768,)\n",
        "###print (diab_t.dtype) #: object\n",
        "###print (diab_tn)\n",
        "#print (diab_tn.shape)  ## NO it is a list\n",
        "#print (diab_tn.dtype)  ## NO it is a list\n",
        "#diab_f_clean = diab_f.dropna()\n",
        "#print(diab_f[-1])\n",
        "#sum_age = sum(diab_f[-1])\n",
        "#size_age = size(diab_f)\n",
        "#print(diab_f[-1])\n",
        "#print(diab_f)\n",
        "#print (diab_f.shape)\n",
        "#print (diab_f.dtype.name)\n",
        "##print(diab_f.dataframe) FEATURE NAMES?\n",
        "#diab_t = diabetes_data.target\n",
        "#print(diab_t)\n",
        "#print(diab_t.shape)\n",
        "#print (diab_t.dtype.name)\n",
        "#diab_tname = diabetes_data.target_names #  TARGET NAMES? target_names = iris_data.target_names\n",
        "###sum(diab_f[-1])/768\n",
        "#list (diab_d)\n",
        "#sum (diab_d[:,7])\n",
        "#print('The average age of participants is:',round ((sum (diab_d[:,7])/768),2)) "
      ],
      "execution_count": 0,
      "outputs": []
    },
    {
      "cell_type": "markdown",
      "metadata": {
        "id": "i7qnyte6oJG6",
        "colab_type": "text"
      },
      "source": [
        "The targets are currently a string representing whether or not the patient has diabetes. However, it's more useful for us if this column contains a 1 or a 0 depending on whether the patient has diabetes. Use the [Label Encoder](https://scikit-learn.org/stable/modules/generated/sklearn.preprocessing.LabelEncoder.html) class from Scikit-Learn to convert the labels into integers."
      ]
    },
    {
      "cell_type": "code",
      "metadata": {
        "id": "rqDw_D2doJG7",
        "colab_type": "code",
        "outputId": "74af2d85-ab06-4ad9-e469-8ab81533a073",
        "colab": {
          "base_uri": "https://localhost:8080/",
          "height": 374
        }
      },
      "source": [
        "from sklearn.preprocessing import LabelEncoder\n",
        "### YOUR CODE HERE\n",
        "le = LabelEncoder()\n",
        "le.fit (['tested_negative','tested_positive'])\n",
        "le.classes_\n",
        "target01 = le.transform(diab_t)\n",
        "print (target01)\n",
        "#le.inverse_transform(target01)"
      ],
      "execution_count": 58,
      "outputs": [
        {
          "output_type": "stream",
          "text": [
            "[1 0 1 0 1 0 1 0 1 1 0 1 0 1 1 1 1 1 0 1 0 0 1 1 1 1 1 0 0 0 0 1 0 0 0 0 0\n",
            " 1 1 1 0 0 0 1 0 1 0 0 1 0 0 0 0 1 0 0 1 0 0 0 0 1 0 0 1 0 1 0 0 0 1 0 1 0\n",
            " 0 0 0 0 1 0 0 0 0 0 1 0 0 0 1 0 0 0 0 1 0 0 0 0 0 1 1 0 0 0 0 0 0 0 0 1 1\n",
            " 1 0 0 1 1 1 0 0 0 1 0 0 0 1 1 0 0 1 1 1 1 1 0 0 0 0 0 0 0 0 0 0 1 0 0 0 0\n",
            " 0 0 0 0 1 0 1 1 0 0 0 1 0 0 0 0 1 1 0 0 0 0 1 1 0 0 0 1 0 1 0 1 0 0 0 0 0\n",
            " 1 1 1 1 1 0 0 1 1 0 1 0 1 1 1 0 0 0 0 0 0 1 1 0 1 0 0 0 1 1 1 1 0 1 1 1 1\n",
            " 0 0 0 0 0 1 0 0 1 1 0 0 0 1 1 1 1 0 0 0 1 1 0 1 0 0 0 0 0 0 0 0 1 1 0 0 0\n",
            " 1 0 1 0 0 1 0 1 0 0 1 1 0 0 0 0 0 1 0 0 0 1 0 0 1 1 0 0 1 0 0 0 1 1 1 0 0\n",
            " 1 0 1 0 1 1 0 1 0 0 1 0 1 1 0 0 1 0 1 0 0 1 0 1 0 1 1 1 0 0 1 0 1 0 0 0 1\n",
            " 0 0 0 0 1 1 1 0 0 0 0 0 0 0 0 0 1 0 0 0 0 0 1 1 1 0 1 1 0 0 1 0 0 1 0 0 1\n",
            " 1 0 0 0 0 1 0 0 1 0 0 0 0 0 0 0 1 1 1 0 0 1 0 0 1 0 0 1 0 1 1 0 1 0 1 0 1\n",
            " 0 1 1 0 0 0 0 1 1 0 1 0 1 0 0 0 0 1 1 0 1 0 1 0 0 0 0 0 1 0 0 0 0 1 0 0 1\n",
            " 1 1 0 0 1 0 0 1 0 0 0 1 0 0 1 0 0 0 0 0 0 0 0 0 1 0 0 0 0 0 0 0 1 0 0 0 1\n",
            " 0 0 0 1 1 0 0 0 0 0 0 0 1 0 0 0 0 1 0 0 0 1 0 0 0 1 0 0 0 1 0 0 0 0 1 1 0\n",
            " 0 0 0 0 0 1 0 0 0 0 0 0 0 0 0 0 0 1 0 0 0 1 1 1 1 0 0 1 1 0 0 0 0 0 0 0 0\n",
            " 0 0 0 0 0 1 1 0 0 0 0 0 0 0 1 0 0 0 0 0 0 0 1 0 1 1 0 0 0 1 0 1 0 1 0 1 0\n",
            " 1 0 0 1 0 0 1 0 0 0 0 1 1 0 1 0 0 0 0 1 1 0 1 0 0 0 1 1 0 0 0 0 0 0 0 0 0\n",
            " 0 1 0 0 0 0 1 0 0 1 0 0 0 1 0 0 0 1 1 1 0 0 0 0 0 0 1 0 0 0 1 0 1 1 1 1 0\n",
            " 1 1 0 0 0 0 0 0 0 1 1 0 1 0 0 1 0 1 0 0 0 0 0 1 0 1 0 1 0 1 1 0 0 0 0 1 1\n",
            " 0 0 0 1 0 1 1 0 0 1 0 0 1 1 0 0 1 0 0 1 0 0 0 0 0 0 0 1 1 1 0 0 0 0 0 0 1\n",
            " 1 0 0 1 0 0 1 0 1 1 1 0 0 1 1 1 0 1 0 1 0 1 0 0 0 0 1 0]\n"
          ],
          "name": "stdout"
        }
      ]
    },
    {
      "cell_type": "markdown",
      "metadata": {
        "id": "kANitNmToJG9",
        "colab_type": "text"
      },
      "source": [
        "Now we are going to create a classifier to predict whether a patient has diabetes based on their vitals. \n",
        "\n",
        "Using `cross_val_score`, report mean cross validation accuracy on a KNN classifier with K=3 and cv=10 folds. Remember that the `target` column holds our labels.\n",
        "\n",
        "* What accuracy did the model achieve?[1] ____***70.31%***\n",
        "* Find a value for K that performs better than this. What value for K did you use? What was the performance? [2] ____ ***In the first 20 tests for K=1 to 20, with K=17, the accuracy would be 75.53%. ***"
      ]
    },
    {
      "cell_type": "code",
      "metadata": {
        "id": "g4eYbIRHWkcG",
        "colab_type": "code",
        "colab": {}
      },
      "source": [
        ""
      ],
      "execution_count": 0,
      "outputs": []
    },
    {
      "cell_type": "code",
      "metadata": {
        "id": "oIDm_Cn5oJG9",
        "colab_type": "code",
        "outputId": "0f6a894d-6bb5-439a-dc88-38e88499e7e2",
        "colab": {
          "base_uri": "https://localhost:8080/",
          "height": 68
        }
      },
      "source": [
        "### YOUR CODE HERE\n",
        "from sklearn import neighbors\n",
        "from sklearn.model_selection import cross_val_score\n",
        "x = diab_d\n",
        "y = diab_t\n",
        "j,k = 0,0\n",
        "for i in range (1,21):\n",
        "  knn = neighbors.KNeighborsClassifier(n_neighbors=i)\n",
        "  scores = cross_val_score(knn, x, y, cv=10)\n",
        "  j = round(scores.mean()*100,2)\n",
        "  if i ==3 :\n",
        "    print ('The accuracy when K=3 (and cv=10 folds) is:',j)\n",
        "  #print (i , j)\n",
        "  if j>k :\n",
        "    k=j\n",
        "    m,n = i,j\n",
        "  i += 1\n",
        "print ('The best performance among the first', i-1,'Ks, is when the number of neghbours (K)=', m, '\\n and the accuracy for this \"K\" is',n,'%')"
      ],
      "execution_count": 59,
      "outputs": [
        {
          "output_type": "stream",
          "text": [
            "The accuracy when K=3 (and cv=10 folds) is: 70.31\n",
            "The best performance among the first 20 Ks, is when the number of neghbours (K)= 17 \n",
            " and the accuracy for this \"K\" is 75.53 %\n"
          ],
          "name": "stdout"
        }
      ]
    },
    {
      "cell_type": "markdown",
      "metadata": {
        "id": "mYPM-3wHoJG-",
        "colab_type": "text"
      },
      "source": [
        "Take a look at the `skin` feature.\n",
        "\n",
        "* According to the dataset description in `diabetes_data['DESCR']`, what does this feature represent? [1] __***4. Triceps skin fold thickness (mm)__***\n",
        "* Are there any unusual entries in this column? If so, why? [2] __The skin thickness cannot be zero! With these zeros, there will be 227 people without skin in this dataset which is so creepy!!! these zero(s) are probably noise/missing data, which was replaced with zeros as a number__\n",
        "\n",
        "Use the `SimpleImputer` class from scikit-learn to impute missing values for the `skin` and `insu` columns. Overwrite the existing `skin` and `insu` columns with these new values."
      ]
    },
    {
      "cell_type": "code",
      "metadata": {
        "id": "2rRqY2o0LAgk",
        "colab_type": "code",
        "outputId": "39520f43-4b43-4bdd-c95f-7d34c2e6040c",
        "colab": {
          "base_uri": "https://localhost:8080/",
          "height": 1000
        }
      },
      "source": [
        "### YOUR CODE HERE\n",
        "#print (diabetes_data)\n",
        "diab_des = diabetes_data.DESCR\n",
        "print (diab_des)\n",
        "print(\"\\n\")\n",
        "print(\"\\n\")\n",
        "print (\"+++++++++++++++++++++++++++++++ SKIN +++++++++++++++++++++++++++++++++++++++++++++++++++++++++++++\")\n",
        "print(\"\\n\")\n",
        "print(\"\\n\")\n",
        "print (df['skin'])\n",
        "print(\"\\n\")\n",
        "print(\"\\n\")\n",
        "print (\"++++++++++++++++++++++++++++++++++++++++++++++++++++++++++++++++++++++++++++++++++++++++++++++++++\")\n",
        "print(\"\\n\")\n",
        "print(\"\\n\")\n",
        "print ('number of people without skin:',sum(df['skin'] == 0),'!!!')\n",
        "print(\"\\n\")\n",
        "print(\"\\n\")"
      ],
      "execution_count": 60,
      "outputs": [
        {
          "output_type": "stream",
          "text": [
            "**Author**: [Vincent Sigillito](vgs@aplcen.apl.jhu.edu)  \n",
            "\n",
            "**Source**: [Obtained from UCI](https://archive.ics.uci.edu/ml/datasets/pima+indians+diabetes) \n",
            "\n",
            "**Please cite**: [UCI citation policy](https://archive.ics.uci.edu/ml/citation_policy.html)  \n",
            "\n",
            "1. Title: Pima Indians Diabetes Database\n",
            " \n",
            " 2. Sources:\n",
            "    (a) Original owners: National Institute of Diabetes and Digestive and\n",
            "                         Kidney Diseases\n",
            "    (b) Donor of database: Vincent Sigillito (vgs@aplcen.apl.jhu.edu)\n",
            "                           Research Center, RMI Group Leader\n",
            "                           Applied Physics Laboratory\n",
            "                           The Johns Hopkins University\n",
            "                           Johns Hopkins Road\n",
            "                           Laurel, MD 20707\n",
            "                           (301) 953-6231\n",
            "    (c) Date received: 9 May 1990\n",
            " \n",
            " 3. Past Usage:\n",
            "     1. Smith,~J.~W., Everhart,~J.~E., Dickson,~W.~C., Knowler,~W.~C., &\n",
            "        Johannes,~R.~S. (1988). Using the ADAP learning algorithm to forecast\n",
            "        the onset of diabetes mellitus.  In {it Proceedings of the Symposium\n",
            "        on Computer Applications and Medical Care} (pp. 261--265).  IEEE\n",
            "        Computer Society Press.\n",
            " \n",
            "        The diagnostic, binary-valued variable investigated is whether the\n",
            "        patient shows signs of diabetes according to World Health Organization\n",
            "        criteria (i.e., if the 2 hour post-load plasma glucose was at least \n",
            "        200 mg/dl at any survey  examination or if found during routine medical\n",
            "        care).   The population lives near Phoenix, Arizona, USA.\n",
            " \n",
            "        Results: Their ADAP algorithm makes a real-valued prediction between\n",
            "        0 and 1.  This was transformed into a binary decision using a cutoff of \n",
            "        0.448.  Using 576 training instances, the sensitivity and specificity\n",
            "        of their algorithm was 76% on the remaining 192 instances.\n",
            " \n",
            " 4. Relevant Information:\n",
            "       Several constraints were placed on the selection of these instances from\n",
            "       a larger database.  In particular, all patients here are females at\n",
            "       least 21 years old of Pima Indian heritage.  ADAP is an adaptive learning\n",
            "       routine that generates and executes digital analogs of perceptron-like\n",
            "       devices.  It is a unique algorithm; see the paper for details.\n",
            " \n",
            " 5. Number of Instances: 768\n",
            " \n",
            " 6. Number of Attributes: 8 plus class \n",
            " \n",
            " 7. For Each Attribute: (all numeric-valued)\n",
            "    1. Number of times pregnant\n",
            "    2. Plasma glucose concentration a 2 hours in an oral glucose tolerance test\n",
            "    3. Diastolic blood pressure (mm Hg)\n",
            "    4. Triceps skin fold thickness (mm)\n",
            "    5. 2-Hour serum insulin (mu U/ml)\n",
            "    6. Body mass index (weight in kg/(height in m)^2)\n",
            "    7. Diabetes pedigree function\n",
            "    8. Age (years)\n",
            "    9. Class variable (0 or 1)\n",
            " \n",
            " 8. Missing Attribute Values: None\n",
            " \n",
            " 9. Class Distribution: (class value 1 is interpreted as \"tested positive for\n",
            "    diabetes\")\n",
            " \n",
            "    Class Value  Number of instances\n",
            "    0            500\n",
            "    1            268\n",
            " \n",
            " 10. Brief statistical analysis:\n",
            " \n",
            "     Attribute number:    Mean:   Standard Deviation:\n",
            "     1.                     3.8     3.4\n",
            "     2.                   120.9    32.0\n",
            "     3.                    69.1    19.4\n",
            "     4.                    20.5    16.0\n",
            "     5.                    79.8   115.2\n",
            "     6.                    32.0     7.9\n",
            "     7.                     0.5     0.3\n",
            "     8.                    33.2    11.8\n",
            " \n",
            " \n",
            "\n",
            "\n",
            "\n",
            "\n",
            " Relabeled values in attribute 'class'\n",
            "    From: 0                       To: tested_negative     \n",
            "    From: 1                       To: tested_positive\n",
            "\n",
            "Downloaded from openml.org.\n",
            "\n",
            "\n",
            "\n",
            "\n",
            "+++++++++++++++++++++++++++++++ SKIN +++++++++++++++++++++++++++++++++++++++++++++++++++++++++++++\n",
            "\n",
            "\n",
            "\n",
            "\n",
            "0      35.0\n",
            "1      29.0\n",
            "2       0.0\n",
            "3      23.0\n",
            "4      35.0\n",
            "5       0.0\n",
            "6      32.0\n",
            "7       0.0\n",
            "8      45.0\n",
            "9       0.0\n",
            "10      0.0\n",
            "11      0.0\n",
            "12      0.0\n",
            "13     23.0\n",
            "14     19.0\n",
            "15      0.0\n",
            "16     47.0\n",
            "17      0.0\n",
            "18     38.0\n",
            "19     30.0\n",
            "20     41.0\n",
            "21      0.0\n",
            "22      0.0\n",
            "23     35.0\n",
            "24     33.0\n",
            "25     26.0\n",
            "26      0.0\n",
            "27     15.0\n",
            "28     19.0\n",
            "29      0.0\n",
            "       ... \n",
            "738    17.0\n",
            "739     0.0\n",
            "740    37.0\n",
            "741    20.0\n",
            "742    18.0\n",
            "743     0.0\n",
            "744    37.0\n",
            "745    33.0\n",
            "746    41.0\n",
            "747    41.0\n",
            "748    22.0\n",
            "749     0.0\n",
            "750     0.0\n",
            "751    39.0\n",
            "752    24.0\n",
            "753    44.0\n",
            "754    32.0\n",
            "755    39.0\n",
            "756    41.0\n",
            "757     0.0\n",
            "758     0.0\n",
            "759     0.0\n",
            "760    26.0\n",
            "761    31.0\n",
            "762     0.0\n",
            "763    48.0\n",
            "764    27.0\n",
            "765    23.0\n",
            "766     0.0\n",
            "767    31.0\n",
            "Name: skin, Length: 768, dtype: float64\n",
            "\n",
            "\n",
            "\n",
            "\n",
            "++++++++++++++++++++++++++++++++++++++++++++++++++++++++++++++++++++++++++++++++++++++++++++++++++\n",
            "\n",
            "\n",
            "\n",
            "\n",
            "number of people without skin: 227 !!!\n",
            "\n",
            "\n",
            "\n",
            "\n"
          ],
          "name": "stdout"
        }
      ]
    },
    {
      "cell_type": "code",
      "metadata": {
        "id": "90gCGSVHoJG-",
        "colab_type": "code",
        "outputId": "3c5a5ecb-52e8-4778-bf62-c05ade8e31fe",
        "colab": {
          "base_uri": "https://localhost:8080/",
          "height": 204
        }
      },
      "source": [
        "### YOUR CODE HERE\n",
        "### Imputing skin and insu\n",
        "from sklearn.impute import SimpleImputer\n",
        "\n",
        "imp = SimpleImputer(\n",
        "    missing_values=0,\n",
        "    strategy='mean',\n",
        "    verbose=1\n",
        ")\n",
        "\n",
        "imp.fit(\n",
        "    df['skin'].values.reshape((-1,1))     \n",
        "\n",
        ")\n",
        "\n",
        "df['skin_imputed'] = imp.transform(df['skin'].values.reshape((-1,1)))\n",
        "imp.fit(\n",
        "    df['insu'].values.reshape((-1,1))     \n",
        ")\n",
        "df['insu_imputed'] = imp.transform(df['insu'].values.reshape((-1,1)))\n",
        "\n",
        "df[['skin','skin_imputed','insu','insu_imputed']].head(5)\n"
      ],
      "execution_count": 0,
      "outputs": [
        {
          "output_type": "execute_result",
          "data": {
            "text/html": [
              "<div>\n",
              "<style scoped>\n",
              "    .dataframe tbody tr th:only-of-type {\n",
              "        vertical-align: middle;\n",
              "    }\n",
              "\n",
              "    .dataframe tbody tr th {\n",
              "        vertical-align: top;\n",
              "    }\n",
              "\n",
              "    .dataframe thead th {\n",
              "        text-align: right;\n",
              "    }\n",
              "</style>\n",
              "<table border=\"1\" class=\"dataframe\">\n",
              "  <thead>\n",
              "    <tr style=\"text-align: right;\">\n",
              "      <th></th>\n",
              "      <th>skin</th>\n",
              "      <th>skin_imputed</th>\n",
              "      <th>insu</th>\n",
              "      <th>insu_imputed</th>\n",
              "    </tr>\n",
              "  </thead>\n",
              "  <tbody>\n",
              "    <tr>\n",
              "      <th>0</th>\n",
              "      <td>35.0</td>\n",
              "      <td>35.00000</td>\n",
              "      <td>0.0</td>\n",
              "      <td>155.548223</td>\n",
              "    </tr>\n",
              "    <tr>\n",
              "      <th>1</th>\n",
              "      <td>29.0</td>\n",
              "      <td>29.00000</td>\n",
              "      <td>0.0</td>\n",
              "      <td>155.548223</td>\n",
              "    </tr>\n",
              "    <tr>\n",
              "      <th>2</th>\n",
              "      <td>0.0</td>\n",
              "      <td>29.15342</td>\n",
              "      <td>0.0</td>\n",
              "      <td>155.548223</td>\n",
              "    </tr>\n",
              "    <tr>\n",
              "      <th>3</th>\n",
              "      <td>23.0</td>\n",
              "      <td>23.00000</td>\n",
              "      <td>94.0</td>\n",
              "      <td>94.000000</td>\n",
              "    </tr>\n",
              "    <tr>\n",
              "      <th>4</th>\n",
              "      <td>35.0</td>\n",
              "      <td>35.00000</td>\n",
              "      <td>168.0</td>\n",
              "      <td>168.000000</td>\n",
              "    </tr>\n",
              "  </tbody>\n",
              "</table>\n",
              "</div>"
            ],
            "text/plain": [
              "   skin  skin_imputed   insu  insu_imputed\n",
              "0  35.0      35.00000    0.0    155.548223\n",
              "1  29.0      29.00000    0.0    155.548223\n",
              "2   0.0      29.15342    0.0    155.548223\n",
              "3  23.0      23.00000   94.0     94.000000\n",
              "4  35.0      35.00000  168.0    168.000000"
            ]
          },
          "metadata": {
            "tags": []
          },
          "execution_count": 396
        }
      ]
    },
    {
      "cell_type": "markdown",
      "metadata": {
        "id": "M0uktoPhoJG_",
        "colab_type": "text"
      },
      "source": [
        "Re-split the data and fit a new classifier.\n",
        "\n",
        "* Is performance better or worse with imputed values? Why might this be? [2] __***THE PERFORMANCE GOT BETTER! We have 0.2% improvement in both situations, when K=3 and also in the first 20 Ks.This happened because we have added more value to our samples which resulted in better classifiers.\n",
        "with K=3, accuracy = 70.57% ; \n",
        "with K=18, accuracy = 75.79% ***bold text***\n",
        "***"
      ]
    },
    {
      "cell_type": "code",
      "metadata": {
        "id": "gObQV_4AV5NW",
        "colab_type": "code",
        "colab": {}
      },
      "source": [
        "\n",
        "\n",
        "del df ['skin']\n",
        "del df ['insu']\n",
        "del df ['target']\n",
        "#print (df)\n"
      ],
      "execution_count": 0,
      "outputs": []
    },
    {
      "cell_type": "code",
      "metadata": {
        "id": "A9eDoOdqkGKT",
        "colab_type": "code",
        "colab": {}
      },
      "source": [
        "import numpy as np\n",
        "diab_d_imp = np.array(df)\n",
        "#diab_d_imp\n",
        "#diab_t"
      ],
      "execution_count": 0,
      "outputs": []
    },
    {
      "cell_type": "code",
      "metadata": {
        "id": "9impREmUoJHA",
        "colab_type": "code",
        "outputId": "6088a6a3-64e4-4f94-87fc-d39d44a05655",
        "colab": {
          "base_uri": "https://localhost:8080/",
          "height": 68
        }
      },
      "source": [
        "### YOUR CODE HERE\n",
        "from sklearn import neighbors\n",
        "from sklearn.model_selection import cross_val_score\n",
        "x = diab_d_imp\n",
        "y = diab_t\n",
        "j,k = 0,0\n",
        "for i in range (1,21):\n",
        "  knn = neighbors.KNeighborsClassifier(n_neighbors=i)\n",
        "  scores = cross_val_score(knn, x, y, cv=10)\n",
        "  j = round(scores.mean()*100,2)\n",
        "  if i ==3 :\n",
        "    print ('The accuracy when K=3 (and cv=10 folds) is:',j)\n",
        "  #print (i , j)\n",
        "  if j>k :\n",
        "    k=j\n",
        "    m,n = i,j\n",
        "  i += 1\n",
        "print ('The best performance among the first', i-1,'Ks, is when the number of neghbours (K)=', m, '\\n and the accuracy for this \"K\" is',n,'%')\n"
      ],
      "execution_count": 0,
      "outputs": [
        {
          "output_type": "stream",
          "text": [
            "The accuracy when K=3 (and cv=10 folds) is: 70.57\n",
            "The best performance among the first 20 Ks, is when the number of neghbours (K)= 18 \n",
            " and the accuracy for this \"K\" is 75.79 %\n"
          ],
          "name": "stdout"
        }
      ]
    }
  ]
}